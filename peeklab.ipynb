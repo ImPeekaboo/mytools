{
  "cells": [
    {
      "cell_type": "markdown",
      "metadata": {
        "id": "view-in-github",
        "colab_type": "text"
      },
      "source": [
        "<a href=\"https://colab.research.google.com/github/ImPeekaboo/mytools/blob/main/peeklab.ipynb\" target=\"_parent\"><img src=\"https://colab.research.google.com/assets/colab-badge.svg\" alt=\"Open In Colab\"/></a>"
      ]
    },
    {
      "cell_type": "markdown",
      "metadata": {
        "id": "first-setup"
      },
      "source": [
        "####**Setup**"
      ]
    },
    {
      "cell_type": "code",
      "execution_count": null,
      "metadata": {
        "cellView": "form",
        "id": "PKOcXpXoQ92i"
      },
      "outputs": [],
      "source": [
        "# @markdown <font size=4>**Install rclone**</font>\n",
        "build_version = \"stable\" # @param [\"stable\", \"beta\"]\n",
        "automatically_clear_cell_output = True  # @param {type:\"boolean\"}\n",
        "\n",
        "import os, urllib.request, time\n",
        "from IPython.display import clear_output\n",
        "\n",
        "if not os.path.exists(\"/root/.ipython/peeklab.py\"):\n",
        "    urllib.request.urlretrieve(\"https://raw.githubusercontent.com/ImPeekaboo/mytools/main/source/peeklab.py\", \"/root/.ipython/peeklab.py\")\n",
        "\n",
        "from peeklab import installRclone, installRcloneB\n",
        "\n",
        "if build_version == \"stable\":\n",
        "    installRclone()\n",
        "else:\n",
        "    installRcloneB()\n",
        "\n",
        "try:\n",
        "    os.makedirs(\"/root/.config/rclone\", exist_ok=True)\n",
        "except OSError as error:\n",
        "    pass\n",
        "\n",
        "if automatically_clear_cell_output is True:\n",
        "    time.sleep(2)\n",
        "    clear_output()"
      ]
    },
    {
      "cell_type": "code",
      "execution_count": null,
      "metadata": {
        "cellView": "form",
        "id": "c5qI2l2RRCXk"
      },
      "outputs": [],
      "source": [
        "# @markdown <font size=4>**Upload Configuration File**</font>\n",
        "# @markdown <p>If you already have an rclone configuration file, you can upload it by running this cell.</p>\n",
        "\n",
        "from google.colab import files\n",
        "from IPython.display import clear_output\n",
        "import shutil\n",
        "import os\n",
        "import time\n",
        "\n",
        "uploaded = files.upload()\n",
        "\n",
        "destination_directory = '/root/.config/rclone'\n",
        "\n",
        "for filename in uploaded.keys():\n",
        "    shutil.move(filename, destination_directory + '/' + filename)\n",
        "\n",
        "clear_output()\n",
        "print(filename, 'success uploaded')\n",
        "time.sleep(2)\n",
        "clear_output()"
      ]
    },
    {
      "cell_type": "code",
      "execution_count": null,
      "metadata": {
        "cellView": "form",
        "id": "cCYQbkN-UiP3"
      },
      "outputs": [],
      "source": [
        "# @markdown <font size=4>**Mount Google Drive**</font>\n",
        "# @markdown <p>Run this if you don't want to upload rclone config, but you still need run ***Install rclone*** above to use rclone transfer to transfer archive-result to your google drive.</p>\n",
        "\n",
        "import os\n",
        "delete_path = '/content/sample_data'\n",
        "if os.path.exists(delete_path):\n",
        "    !rm -rf '/content/sample_data'\n",
        "\n",
        "from google.colab import drive\n",
        "drive.mount('/content/drive')"
      ]
    },
    {
      "cell_type": "markdown",
      "source": [
        "####**MEGA**"
      ],
      "metadata": {
        "id": "mega-dl"
      }
    },
    {
      "cell_type": "code",
      "source": [
        "# @markdown <font size=4>**MEGA Downloader**</font>\n",
        "URL = \"\" # @param {type:\"string\"}\n",
        "OUTPUT_PATH = \"/content/downloads\" # @param {type:\"string\"}\n",
        "\n",
        "import sys, os, urllib.request, time, subprocess, contextlib\n",
        "from IPython.display import clear_output, update_display\n",
        "\n",
        "if not os.path.exists(\"/root/.ipython/peeklab.py\"):\n",
        "    urllib.request.urlretrieve(\"https://raw.githubusercontent.com/ImPeekaboo/mytools/main/source/peeklab.py\", \"/root/.ipython/peeklab.py\")\n",
        "\n",
        "from peeklab import installMEGA\n",
        "\n",
        "if not os.path.exists(OUTPUT_PATH):\n",
        "  os.makedirs(OUTPUT_PATH, exist_ok=True)\n",
        "\n",
        "# Installing MEGAcmd\n",
        "if not os.path.exists(\"/usr/bin/mega-cmd\"):\n",
        "    installingMEGA()\n",
        "\n",
        "# Unix, Windows and old Macintosh end-of-line\n",
        "newlines = ['\\n', '\\r\\n', '\\r']\n",
        "\n",
        "def unbuffered(proc, stream='stdout'):\n",
        "    stream = getattr(proc, stream)\n",
        "    with contextlib.closing(stream):\n",
        "        while True:\n",
        "            out = []\n",
        "            last = stream.read(1)\n",
        "            # Don't loop forever\n",
        "            if last == '' and proc.poll() is not None:\n",
        "                break\n",
        "            while last not in newlines:\n",
        "                # Don't loop forever\n",
        "                if last == '' and proc.poll() is not None:\n",
        "                    break\n",
        "                out.append(last)\n",
        "                last = stream.read(1)\n",
        "            out = ''.join(out)\n",
        "            yield out\n",
        "\n",
        "def transfare():\n",
        "    import codecs\n",
        "    decoder = codecs.getincrementaldecoder(\"UTF-8\")()\n",
        "    cmd = [\"mega-get\", URL, OUTPUT_PATH]\n",
        "    proc = subprocess.Popen(\n",
        "        cmd,\n",
        "        stdout=subprocess.PIPE,\n",
        "        stderr=subprocess.STDOUT,\n",
        "        # Make all end-of-lines '\\n'\n",
        "        universal_newlines=True,\n",
        "    )\n",
        "    for line in unbuffered(proc):\n",
        "        #clear_output(wait=True)\n",
        "        print(line)\n",
        "transfare()"
      ],
      "metadata": {
        "cellView": "form",
        "id": "pibyqaHneuym"
      },
      "execution_count": null,
      "outputs": []
    },
    {
      "cell_type": "markdown",
      "source": [
        "####**Libtorrent**"
      ],
      "metadata": {
        "id": "libtorrent-x"
      }
    },
    {
      "cell_type": "code",
      "source": [
        "# @markdown <font size=4>**libtorrent for torrent file v2**</font>\n",
        "# @markdown <p>Run this cell to use libtorrent with torrent file.</p>\n",
        "\n",
        "import importlib, urllib.request, os\n",
        "from IPython.display import clear_output\n",
        "from google.colab import files\n",
        "\n",
        "if not os.path.exists(\"/root/.ipython/peeklab.py\"):\n",
        "    urllib.request.urlretrieve(\"https://raw.githubusercontent.com/ImPeekaboo/mytools/main/source/peeklab.py\", \"/root/.ipython/peeklab.py\")\n",
        "\n",
        "from peeklab import installLX\n",
        "\n",
        "if importlib.util.find_spec(\"libtorrentx\") is None:\n",
        "    installLX()\n",
        "\n",
        "uploaded = files.upload()\n",
        "uploaded_file_path = list(uploaded.keys())[0]\n",
        "command = f\"python -m libtorrentx -m \\\"{uploaded_file_path}\\\"\"\n",
        "clear_output()\n",
        "\n",
        "!{command}\n",
        "!rm \"{uploaded_file_path}\""
      ],
      "metadata": {
        "cellView": "form",
        "id": "crQVK3GNgdtd"
      },
      "execution_count": null,
      "outputs": []
    },
    {
      "cell_type": "code",
      "source": [
        "# @markdown <font size=4>**libtorrent for magnet link v2**</font>\n",
        "# @markdown <p>Run this cell to use libtorrent with magnet link.</p>\n",
        "\n",
        "import importlib, urllib.request, os\n",
        "from IPython.display import clear_output\n",
        "\n",
        "if not os.path.exists(\"/root/.ipython/peeklab.py\"):\n",
        "    urllib.request.urlretrieve(\"https://raw.githubusercontent.com/ImPeekaboo/mytools/main/source/peeklab.py\", \"/root/.ipython/peeklab.py\")\n",
        "\n",
        "from peeklab import installLX\n",
        "\n",
        "if importlib.util.find_spec(\"libtorrentx\") is None:\n",
        "    installLX()\n",
        "\n",
        "magnet_link = input('paste your magnet link here:\\n')\n",
        "command = f\"python -m libtorrentx -m \\\"{magnet_link}\\\"\"\n",
        "clear_output()\n",
        "\n",
        "!{command}"
      ],
      "metadata": {
        "id": "lF2BNiuSzr8Y",
        "cellView": "form"
      },
      "execution_count": null,
      "outputs": []
    },
    {
      "cell_type": "markdown",
      "source": [
        "####**Gofile-dl**"
      ],
      "metadata": {
        "id": "gofile-dl"
      }
    },
    {
      "cell_type": "code",
      "source": [
        "# @markdown <font size=4>**Gofile Downloader**</font>\n",
        "link = \"\" # @param{type:\"string\"}\n",
        "output_path = \"/content/downloads\" # @param{type:\"string\"}\n",
        "\n",
        "import os, urllib.request\n",
        "from IPython.display import clear_output\n",
        "\n",
        "if not os.path.exists(\"/root/.ipython/peeklab.py\"):\n",
        "    urllib.request.urlretrieve(\"https://raw.githubusercontent.com/ImPeekaboo/mytools/main/source/peeklab.py\", \"/root/.ipython/peeklab.py\")\n",
        "\n",
        "from peeklab import installGF\n",
        "\n",
        "if not os.path.exists(\"/usr/local/bin/gofile\"):\n",
        "    installGF()\n",
        "\n",
        "if not os.path.exists(output_path):\n",
        "   os.makedirs(output_path)\n",
        "\n",
        "os.environ['GF_DOWNLOADDIR'] = output_path\n",
        "\n",
        "!gofile \"{link}\""
      ],
      "metadata": {
        "id": "c3DNC2qkoyUm",
        "cellView": "form"
      },
      "execution_count": null,
      "outputs": []
    },
    {
      "cell_type": "code",
      "source": [
        "# @markdown <font size=4>**cyberdrop-dl**</font>\n",
        "link = \"\" # @param{type:\"string\"}\n",
        "output = \"/content/downloads\" # @param{type:\"string\"}\n",
        "hide_progress = True # @param {type:\"boolean\"}\n",
        "\n",
        "import importlib, os, urllib.request\n",
        "from IPython.display import clear_output\n",
        "\n",
        "if not os.path.exists(\"/root/.ipython/peeklab.py\"):\n",
        "    urllib.request.urlretrieve(\"https://raw.githubusercontent.com/ImPeekaboo/mytools/main/source/peeklab.py\", \"/root/.ipython/peeklab.py\")\n",
        "\n",
        "from peeklab import installCD\n",
        "\n",
        "if importlib.util.find_spec(\"cyberdrop_dl\") is None:\n",
        "    installCD()\n",
        "\n",
        "command = f\"cyberdrop-dl --refresh-rate 100 --hide-new-progress -o \\\"{output}\\\" \\\"{link}\\\"\"\n",
        "if hide_progress is True:\n",
        "    command = command.replace('--hide-new-progress', '--hide-overall-progress --hide-forum-progress --hide-thread-progress --hide-domain-progress --hide-album-progress --hide-file-progress')\n",
        "!{command}"
      ],
      "metadata": {
        "id": "mMhYPlsIrZ8a",
        "cellView": "form"
      },
      "execution_count": null,
      "outputs": []
    },
    {
      "cell_type": "markdown",
      "metadata": {
        "id": "youtube-archive"
      },
      "source": [
        "####**Youtube Archive**"
      ]
    },
    {
      "cell_type": "code",
      "execution_count": null,
      "metadata": {
        "cellView": "form",
        "id": "sBayr_Z9RVO7"
      },
      "outputs": [],
      "source": [
        "# @markdown <p>Run this first before you use <i><b>Archive livestreaming</b></i> and <i><b>Archive processed video/VOD</b></i>.</p>\n",
        "\n",
        "from IPython.display import clear_output\n",
        "import os, urllib.request\n",
        "import time\n",
        "\n",
        "if not os.path.exists(\"/root/.ipython/peeklab.py\"):\n",
        "    urllib.request.urlretrieve(\"https://raw.githubusercontent.com/ImPeekaboo/mytools/main/source/peeklab.py\", \"/root/.ipython/peeklab.py\")\n",
        "\n",
        "from peeklab import setupYTA\n",
        "\n",
        "setupYTA()\n",
        "\n",
        "# you can manually build yta with go with this\n",
        "# !wget https://go.dev/dl/go1.20.5.linux-amd64.tar.gz\n",
        "# !tar -xf go1.20.5.linux-amd64.tar.gz\n",
        "# !sudo mv go /usr/local\n",
        "# !rm go1.20.5.linux-amd64.tar.gz\n",
        "# os.environ['PATH'] += \":/usr/local/go/bin\"\n",
        "# !git clone https://github.com/ImPeekaboo/ytarchive\n",
        "# !cd ytarchive && go build -o /usr/local/bin/ytarchive\n",
        "# !rm -rf ytarchive"
      ]
    },
    {
      "cell_type": "code",
      "execution_count": null,
      "metadata": {
        "cellView": "form",
        "id": "1yZKOHjfRhvS"
      },
      "outputs": [],
      "source": [
        "# @markdown <font size=4>**Upload your cookies.txt here**</font>\n",
        "# @markdown <p>If you want to archive membership content, you need upload your cookies file, before you upload it you have to name it become ***cookies.txt***.</p>\n",
        "\n",
        "from google.colab import files\n",
        "from IPython.display import clear_output\n",
        "import time\n",
        "\n",
        "uploaded = files.upload()\n",
        "clear_output()\n",
        "for filename in uploaded.keys():\n",
        "    print(filename, 'success uploaded')\n",
        "time.sleep(2)\n",
        "clear_output()"
      ]
    },
    {
      "cell_type": "code",
      "execution_count": null,
      "metadata": {
        "cellView": "form",
        "id": "80dlwhI4RrVv"
      },
      "outputs": [],
      "source": [
        "# @markdown <font size=4>**Archive livestreaming**</font>\n",
        "# @markdown <p>Fill ***youtube_id*** with 11 digits youtube video link id.</p>\n",
        "youtube_id = \"\" # @param {type:\"string\"}\n",
        "\n",
        "import os, subprocess, threading\n",
        "\n",
        "cookies_path = '/content/cookies.txt'\n",
        "\n",
        "get_output = f'''yt-dlp --live-from-start --wait-for-video 1 --skip-download \\\n",
        "-o \"archive-result/\\\n",
        "[%(release_date,upload_date)s] %(title)s [%(channel)s] (%(id)s)/\\\n",
        "[%(release_date,upload_date)s] %(title)s [%(channel)s] (%(id)s)\" \\\n",
        "--print \"%(filename)s\" --no-warnings \\\n",
        "https://www.youtube.com/watch?v={youtube_id} \\\n",
        "2>&1 | tail -n 1'''\n",
        "if os.path.isfile(cookies_path):\n",
        "    get_output = get_output.replace(\"yt-dlp\", \"yt-dlp --cookies cookies.txt\")\n",
        "\n",
        "output = subprocess.getoutput(get_output).strip()\n",
        "title = output.split('/')[-1]\n",
        "\n",
        "def run_command_1():\n",
        "    command_1 = \"ytarchive -v -w -r 1 -o '/content/archive-result/[%(upload_date)s] %(title)s [%(channel)s] (%(id)s)/[%(upload_date)s] %(title)s [%(channel)s] (%(id)s)' -t --add-metadata --write-description --write-thumbnail --threads 4 --merge 'https://www.youtube.com/watch?v={}' best\".format(youtube_id)\n",
        "    if os.path.isfile(cookies_path):\n",
        "        command_1 = command_1.replace(\"ytarchive\", \"ytarchive --cookies cookies.txt\")\n",
        "    !{command_1}\n",
        "\n",
        "def run_command_2():\n",
        "    command_2 = \"yt-dlp -v -c -o '/content/archive-result/[%(release_date,upload_date)s] %(title)s [%(channel)s] (%(id)s)/[%(release_date,upload_date)s] %(title)s [%(channel)s] (%(id)s)' --wait-for-video 1 --live-from-start --concurrent-fragments 20 --write-info-json --clean-infojson --write-comments --write-subs --sub-lang live_chat --sub-format json --skip-download 'https://www.youtube.com/watch?v={}'\".format(youtube_id)\n",
        "    if os.path.isfile(cookies_path):\n",
        "        command_2 = command_2.replace(\"yt-dlp\", \"yt-dlp --cookies cookies.txt\")\n",
        "    !{command_2}\n",
        "\n",
        "thread_1 = threading.Thread(target=run_command_1)\n",
        "thread_2 = threading.Thread(target=run_command_2)\n",
        "\n",
        "thread_1.start()\n",
        "thread_2.start()\n",
        "\n",
        "thread_1.join()\n",
        "thread_2.join()\n",
        "\n",
        "if os.path.exists(output + \".live_chat.json.part\"):\n",
        "    command_fix = f\"mv \\\"{output}.live_chat.json.part\\\" \\\"{output}.live_chat.json\\\"\"\n",
        "    !{command_fix}\n",
        "\n",
        "command_zip = f\"zip \\\"{output}.live_chat.zip\\\" -j \\\"{output}.live_chat.json\\\"\"\n",
        "command_del = f\"rm \\\"{output}.live_chat.json\\\"\"\n",
        "!{command_zip}\n",
        "!{command_del}"
      ]
    },
    {
      "cell_type": "code",
      "execution_count": null,
      "metadata": {
        "cellView": "form",
        "id": "MsF3S4WtR96d"
      },
      "outputs": [],
      "source": [
        "# @markdown <font size=4>**Archive processed video/VOD**</font>\n",
        "# @markdown <p>Fill ***youtube_id*** with 11 digits youtube video link id.</p>\n",
        "youtube_id = \"\" # @param {type:\"string\"}\n",
        "\n",
        "import os\n",
        "\n",
        "cookies_path = '/content/cookies.txt'\n",
        "\n",
        "def run_command_1():\n",
        "    command_1 = \"yt-dlp -v -c -o '/content/archive-result/[%(release_date,upload_date)s] %(title)s [%(channel)s] (%(id)s)/[%(release_date,upload_date)s] %(title)s [%(channel)s] (%(id)s)' --add-metadata --concurrent-fragments 20 --merge-output-format mp4 --embed-thumbnail --embed-metadata --write-info-json --clean-infojson --write-comments --write-subs --sub-lang live_chat --sub-format json --write-description --write-thumbnail --convert-thumbnails jpg 'https://www.youtube.com/watch?v={}'\".format(youtube_id)\n",
        "    if os.path.isfile(cookies_path):\n",
        "        command_1 = command_1.replace(\"yt-dlp\", \"yt-dlp --cookies cookies.txt\")\n",
        "    !{command_1}\n",
        "run_command_1()"
      ]
    },
    {
      "cell_type": "markdown",
      "source": [
        "##### **Archive Youtube Tab or Playlist**"
      ],
      "metadata": {
        "id": "yt-tab-archive"
      }
    },
    {
      "cell_type": "code",
      "source": [
        "# @markdown <font size=4>**Archive Youtube Tab or Playlist**</font>\n",
        "# @markdown <p>Fill ***link*** with youtube tab or playlist link. This cell can download 6 index configuration at once with multi thread and you can fill ***index*** with number to configure which index on playlist or youtube tab that you want to download. ***short_filename*** is not complete filename format to make less error when downloading, uncheck if you want complete filename.</p>\n",
        "link = \"\" # @param {type:\"string\"}\n",
        "index_1 = \"\" # @param {type:\"string\"}\n",
        "index_2 = \"\" # @param {type:\"string\"}\n",
        "index_3 = \"\" # @param {type:\"string\"}\n",
        "index_4 = \"\" # @param {type:\"string\"}\n",
        "index_5 = \"\" # @param {type:\"string\"}\n",
        "index_6 = \"\" # @param {type:\"string\"}\n",
        "short_filename = False  # @param {type:\"boolean\"}\n",
        "\n",
        "import os\n",
        "import threading\n",
        "\n",
        "cookies_path = '/content/cookies.txt'\n",
        "\n",
        "def run_command_1():\n",
        "    if index_1:\n",
        "        command_1 = \"yt-dlp -v -c -o '/content/archive-result/[%(release_date,upload_date)s] %(title)s [%(channel)s] (%(id)s)/[%(release_date,upload_date)s] %(title)s [%(channel)s] (%(id)s)' --add-metadata --concurrent-fragments 20 --merge-output-format mp4 --mark-watched --embed-thumbnail --embed-metadata --write-info-json --clean-infojson --write-comments --write-subs --sub-lang live_chat --sub-format json --write-description --write-thumbnail --convert-thumbnails jpg '{}'\".format(link)\n",
        "        if os.path.isfile(cookies_path):\n",
        "            command_1 = command_1.replace(\"yt-dlp\", \"yt-dlp --cookies cookies.txt\")\n",
        "        command_1 = command_1.replace(\"--add-metadata\", f\"--add-metadata -I {index_1}\")\n",
        "        if short_filename is True:\n",
        "            command_1 = command_1.replace(\"[%(release_date,upload_date)s] %(title)s [%(channel)s] (%(id)s)/[%(release_date,upload_date)s] %(title)s [%(channel)s] (%(id)s)\", \"[%(release_date,upload_date)s] (%(id)s)/[%(release_date,upload_date)s] (%(id)s)\")\n",
        "        !{command_1}\n",
        "    else:\n",
        "        pass\n",
        "\n",
        "def run_command_2():\n",
        "    if index_2:\n",
        "        command_2 = \"yt-dlp -v -c -o '/content/archive-result/[%(release_date,upload_date)s] %(title)s [%(channel)s] (%(id)s)/[%(release_date,upload_date)s] %(title)s [%(channel)s] (%(id)s)' --add-metadata --concurrent-fragments 20 --merge-output-format mp4 --mark-watched --embed-thumbnail --embed-metadata --write-info-json --clean-infojson --write-comments --write-subs --sub-lang live_chat --sub-format json --write-description --write-thumbnail --convert-thumbnails jpg '{}'\".format(link)\n",
        "        if os.path.isfile(cookies_path):\n",
        "            command_2 = command_2.replace(\"yt-dlp\", \"yt-dlp --cookies cookies.txt\")\n",
        "        command_2 = command_2.replace(\"--add-metadata\", f\"--add-metadata -I {index_2}\")\n",
        "        if short_filename is True:\n",
        "            command_2 = command_2.replace(\"[%(release_date,upload_date)s] %(title)s [%(channel)s] (%(id)s)/[%(release_date,upload_date)s] %(title)s [%(channel)s] (%(id)s)\", \"[%(release_date,upload_date)s] (%(id)s)/[%(release_date,upload_date)s] (%(id)s)\")\n",
        "        !{command_2}\n",
        "    else:\n",
        "        pass\n",
        "\n",
        "def run_command_3():\n",
        "    if index_3:\n",
        "        command_3 = \"yt-dlp -v -c -o '/content/archive-result/[%(release_date,upload_date)s] %(title)s [%(channel)s] (%(id)s)/[%(release_date,upload_date)s] %(title)s [%(channel)s] (%(id)s)' --add-metadata --concurrent-fragments 20 --merge-output-format mp4 --mark-watched --embed-thumbnail --embed-metadata --write-info-json --clean-infojson --write-comments --write-subs --sub-lang live_chat --sub-format json --write-description --write-thumbnail --convert-thumbnails jpg '{}'\".format(link)\n",
        "        if os.path.isfile(cookies_path):\n",
        "            command_3 = command_3.replace(\"yt-dlp\", \"yt-dlp --cookies cookies.txt\")\n",
        "        command_3 = command_3.replace(\"--add-metadata\", f\"--add-metadata -I {index_3}\")\n",
        "        if short_filename is True:\n",
        "            command_3 = command_3.replace(\"[%(release_date,upload_date)s] %(title)s [%(channel)s] (%(id)s)/[%(release_date,upload_date)s] %(title)s [%(channel)s] (%(id)s)\", \"[%(release_date,upload_date)s] (%(id)s)/[%(release_date,upload_date)s] (%(id)s)\")\n",
        "        !{command_3}\n",
        "    else:\n",
        "        pass\n",
        "\n",
        "def run_command_4():\n",
        "    if index_4:\n",
        "        command_4 = \"yt-dlp -v -c -o '/content/archive-result/[%(release_date,upload_date)s] %(title)s [%(channel)s] (%(id)s)/[%(release_date,upload_date)s] %(title)s [%(channel)s] (%(id)s)' --add-metadata --concurrent-fragments 20 --merge-output-format mp4 --mark-watched --embed-thumbnail --embed-metadata --write-info-json --clean-infojson --write-comments --write-subs --sub-lang live_chat --sub-format json --write-description --write-thumbnail --convert-thumbnails jpg '{}'\".format(link)\n",
        "        if os.path.isfile(cookies_path):\n",
        "            command_4 = command_4.replace(\"yt-dlp\", \"yt-dlp --cookies cookies.txt\")\n",
        "        command_4 = command_4.replace(\"--add-metadata\", f\"--add-metadata -I {index_4}\")\n",
        "        if short_filename is True:\n",
        "            command_4 = command_4.replace(\"[%(release_date,upload_date)s] %(title)s [%(channel)s] (%(id)s)/[%(release_date,upload_date)s] %(title)s [%(channel)s] (%(id)s)\", \"[%(release_date,upload_date)s] (%(id)s)/[%(release_date,upload_date)s] (%(id)s)\")\n",
        "        !{command_4}\n",
        "    else:\n",
        "        pass\n",
        "\n",
        "def run_command_5():\n",
        "    if index_5:\n",
        "        command_5 = \"yt-dlp -v -c -o '/content/archive-result/[%(release_date,upload_date)s] %(title)s [%(channel)s] (%(id)s)/[%(release_date,upload_date)s] %(title)s [%(channel)s] (%(id)s)' --add-metadata --concurrent-fragments 20 --merge-output-format mp4 --mark-watched --embed-thumbnail --embed-metadata --write-info-json --clean-infojson --write-comments --write-subs --sub-lang live_chat --sub-format json --write-description --write-thumbnail --convert-thumbnails jpg '{}'\".format(link)\n",
        "        if os.path.isfile(cookies_path):\n",
        "            command_5 = command_5.replace(\"yt-dlp\", \"yt-dlp --cookies cookies.txt\")\n",
        "        command_5 = command_5.replace(\"--add-metadata\", f\"--add-metadata -I {index_5}\")\n",
        "        if short_filename is True:\n",
        "            command_5 = command_5.replace(\"[%(release_date,upload_date)s] %(title)s [%(channel)s] (%(id)s)/[%(release_date,upload_date)s] %(title)s [%(channel)s] (%(id)s)\", \"[%(release_date,upload_date)s] (%(id)s)/[%(release_date,upload_date)s] (%(id)s)\")\n",
        "        !{command_5}\n",
        "    else:\n",
        "        pass\n",
        "\n",
        "def run_command_6():\n",
        "    if index_6:\n",
        "        command_6 = \"yt-dlp -v -c -o '/content/archive-result/[%(release_date,upload_date)s] %(title)s [%(channel)s] (%(id)s)/[%(release_date,upload_date)s] %(title)s [%(channel)s] (%(id)s)' --add-metadata --concurrent-fragments 20 --merge-output-format mp4 --mark-watched --embed-thumbnail --embed-metadata --write-info-json --clean-infojson --write-comments --write-subs --sub-lang live_chat --sub-format json --write-description --write-thumbnail --convert-thumbnails jpg '{}'\".format(link)\n",
        "        if os.path.isfile(cookies_path):\n",
        "            command_6 = command_6.replace(\"yt-dlp\", \"yt-dlp --cookies cookies.txt\")\n",
        "        command_6 = command_6.replace(\"--add-metadata\", f\"--add-metadata -I {index_6}\")\n",
        "        if short_filename is True:\n",
        "            command_6 = command_6.replace(\"[%(release_date,upload_date)s] %(title)s [%(channel)s] (%(id)s)/[%(release_date,upload_date)s] %(title)s [%(channel)s] (%(id)s)\", \"[%(release_date,upload_date)s] (%(id)s)/[%(release_date,upload_date)s] (%(id)s)\")\n",
        "        !{command_6}\n",
        "    else:\n",
        "        pass\n",
        "\n",
        "thread_1 = threading.Thread(target=run_command_1)\n",
        "thread_2 = threading.Thread(target=run_command_2)\n",
        "thread_3 = threading.Thread(target=run_command_3)\n",
        "thread_4 = threading.Thread(target=run_command_4)\n",
        "thread_5 = threading.Thread(target=run_command_5)\n",
        "thread_6 = threading.Thread(target=run_command_6)\n",
        "\n",
        "thread_1.start()\n",
        "thread_2.start()\n",
        "thread_3.start()\n",
        "thread_4.start()\n",
        "thread_5.start()\n",
        "thread_6.start()\n",
        "\n",
        "thread_1.join()\n",
        "thread_2.join()\n",
        "thread_3.join()\n",
        "thread_4.join()\n",
        "thread_5.join()\n",
        "thread_6.join()"
      ],
      "metadata": {
        "id": "9AhZR8OEWZ9Y",
        "cellView": "form"
      },
      "execution_count": null,
      "outputs": []
    },
    {
      "cell_type": "markdown",
      "metadata": {
        "id": "rclone-transfer"
      },
      "source": [
        "####**Rclone Transfer**"
      ]
    },
    {
      "cell_type": "code",
      "execution_count": null,
      "metadata": {
        "cellView": "form",
        "id": "Yxqr4QkKSdlm"
      },
      "outputs": [],
      "source": [
        "# @markdown <font size=4>**Transfer Files with Rclone**</font>\n",
        "# @markdown <p>Use ***copy*** mode for files from your path and ***copyurl*** mode for direct link download, fill ***source*** with link or patch source, ***dest*** with your destiny path.</p>\n",
        "mode = \"copy\" # @param [\"copy\", \"copyurl\"]\n",
        "source = \"/content/a\" # @param {type:\"string\"}\n",
        "dest = \"Onedrive:\" # @param {type:\"string\"}\n",
        "\n",
        "if mode == \"copyurl\":\n",
        "    command = f\"rclone {mode} -v --stats 1 --stats-one-line --checkers=16 --onedrive-encoding \\\"Slash\\\" --create-empty-src-dirs -a \\\"{source}\\\" \\\"{dest}\\\" --user-agent 'ISV|rclone.org|rclone/v1.63.1'\"\n",
        "else:\n",
        "    command = f\"rclone {mode} -v --stats 1 --stats-one-line --checkers=16 --onedrive-encoding \\\"Slash\\\" --create-empty-src-dirs \\\"{source}\\\" \\\"{dest}\\\" --user-agent 'ISV|rclone.org|rclone/v1.63.1'\"\n",
        "\n",
        "!{command}"
      ]
    }
  ],
  "metadata": {
    "colab": {
      "collapsed_sections": [
        "first-setup",
        "mega-dl",
        "libtorrent-x",
        "gofile-dl",
        "youtube-archive",
        "yt-tab-archive",
        "rclone-transfer"
      ],
      "provenance": [],
      "private_outputs": true,
      "gpuType": "T4",
      "include_colab_link": true
    },
    "kernelspec": {
      "display_name": "Python 3",
      "name": "python3"
    },
    "language_info": {
      "name": "python"
    }
  },
  "nbformat": 4,
  "nbformat_minor": 0
}
