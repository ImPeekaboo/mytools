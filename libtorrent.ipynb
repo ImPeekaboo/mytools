{
  "nbformat": 4,
  "nbformat_minor": 0,
  "metadata": {
    "colab": {
      "provenance": [],
      "collapsed_sections": [
        "eEztD81xfyaw",
        "u5H5i9bagYjJ",
        "g5O8cQRYh_ma"
      ],
      "authorship_tag": "ABX9TyMCQ58H5naaqBRGRRQHmGsE",
      "include_colab_link": true
    },
    "kernelspec": {
      "name": "python3",
      "display_name": "Python 3"
    },
    "language_info": {
      "name": "python"
    }
  },
  "cells": [
    {
      "cell_type": "markdown",
      "metadata": {
        "id": "view-in-github",
        "colab_type": "text"
      },
      "source": [
        "<a href=\"https://colab.research.google.com/github/ImPeekaboo/mytools/blob/main/libtorrent.ipynb\" target=\"_parent\"><img src=\"https://colab.research.google.com/assets/colab-badge.svg\" alt=\"Open In Colab\"/></a>"
      ]
    },
    {
      "cell_type": "markdown",
      "source": [
        "####**Setup**"
      ],
      "metadata": {
        "id": "eEztD81xfyaw"
      }
    },
    {
      "cell_type": "code",
      "source": [
        "# ============================= FORM ============================= #\n",
        "#@markdown <font size=4>**Install rclone**</font>\n",
        "build_version = \"stable\" #@param [\"stable\", \"beta\"]\n",
        "automatically_clear_cell_output = True  # @param{type: \"boolean\"}\n",
        "# ================================================================ #\n",
        "\n",
        "import os\n",
        "import IPython\n",
        "from IPython.display import clear_output\n",
        "\n",
        "\n",
        "if build_version == \"stable\":\n",
        "    !curl https://rclone.org/install.sh | sudo bash\n",
        "else:\n",
        "    !curl https://rclone.org/install.sh | sudo bash -s beta\n",
        "\n",
        "!sudo apt-get -y install fuse3\n",
        "\n",
        "try:\n",
        "    os.makedirs(\"/root/.config/rclone\", exist_ok=True)\n",
        "except OSError as error:\n",
        "    pass\n",
        "\n",
        "if automatically_clear_cell_output is True:\n",
        "    clear_output()"
      ],
      "metadata": {
        "cellView": "form",
        "id": "54HuUIx2f7W7"
      },
      "execution_count": null,
      "outputs": []
    },
    {
      "cell_type": "code",
      "source": [
        "# ============================= FORM ============================= #\n",
        "# @markdown <font size=4>**Upload Configuration File**</font>\n",
        "# @markdown <p>If you already have an rclone configuration file, you can upload it by running this cell.</p>\n",
        "# ================================================================ #\n",
        "\n",
        "from google.colab import files\n",
        "from IPython.display import clear_output\n",
        "import shutil\n",
        "import os\n",
        "\n",
        "uploaded = files.upload()\n",
        "\n",
        "destination_directory = '/root/.config/rclone'\n",
        "\n",
        "for filename in uploaded.keys():\n",
        "    shutil.move(filename, destination_directory + '/' + filename)\n",
        "\n",
        "clear_output()\n",
        "\n",
        "print(filename, 'success uploaded to', destination_directory)"
      ],
      "metadata": {
        "cellView": "form",
        "id": "Eswr0R-UgKDJ"
      },
      "execution_count": null,
      "outputs": []
    },
    {
      "cell_type": "code",
      "source": [
        "# ============================= FORM ============================= #\n",
        "# @markdown <font size=4>**Mount Google Drive**</font>\n",
        "# @markdown <p>Run this if you don't want to upload rclone config, but you still need run ***Install rclone*** above to use rclone transfer to transfer your files to your google drive.</p>\n",
        "# ================================================================ #\n",
        "\n",
        "from google.colab import drive\n",
        "drive.mount('/content/drive')"
      ],
      "metadata": {
        "cellView": "form",
        "id": "OROQzyiqgTnz"
      },
      "execution_count": null,
      "outputs": []
    },
    {
      "cell_type": "markdown",
      "source": [
        "####**Libtorrent**"
      ],
      "metadata": {
        "id": "u5H5i9bagYjJ"
      }
    },
    {
      "cell_type": "code",
      "source": [
        "# ============================= FORM ============================= #\n",
        "# @markdown <font size=4>**libtorrent for torrent file**</font>\n",
        "# @markdown <p>Run this cell to use libtorrent with torrent file.</p>\n",
        "# ================================================================ #\n",
        "\n",
        "import os\n",
        "\n",
        "if os.path.exists(\"/content/downloads\"):\n",
        "  pass\n",
        "else:\n",
        "  os.mkdir(\"/content/downloads\")\n",
        "\n",
        "import importlib\n",
        "from IPython.display import clear_output\n",
        "\n",
        "if importlib.util.find_spec(\"libtorrent\") is None:\n",
        "    !pip install libtorrent\n",
        "    clear_output()\n",
        "\n",
        "import libtorrent as lt\n",
        "import time\n",
        "import sys\n",
        "from google.colab import files\n",
        "\n",
        "ses = lt.session({'listen_interfaces': '0.0.0.0:6881'})\n",
        "\n",
        "uploaded = files.upload()\n",
        "uploaded_file_path = list(uploaded.keys())[0]\n",
        "clear_output()\n",
        "\n",
        "info = lt.torrent_info(uploaded_file_path)\n",
        "h = ses.add_torrent({'ti': info, 'save_path': '/content/downloads'})\n",
        "s = h.status()\n",
        "\n",
        "print('start downloading', s.name)\n",
        "\n",
        "!rm {uploaded_file_path}\n",
        "\n",
        "while (not s.is_seeding):\n",
        "    s = h.status()\n",
        "\n",
        "    print('\\r%.2f%% complete (down: %.1f kB/s up: %.1f kB/s peers: %d) %s' % (\n",
        "        s.progress * 100, s.download_rate / 1000, s.upload_rate / 1000,\n",
        "        s.num_peers, s.state), end=' ')\n",
        "\n",
        "\n",
        "# this optional, you can include this too\n",
        "#    alerts = ses.pop_alerts()\n",
        "#    for a in alerts:\n",
        "#        if a.category() & lt.alert.category_t.error_notification:\n",
        "#            print(a)\n",
        "\n",
        "    sys.stdout.flush()\n",
        "\n",
        "    time.sleep(1)\n",
        "\n",
        "print(h.status().name, 'complete')"
      ],
      "metadata": {
        "cellView": "form",
        "id": "cMrV4YsHgjUw"
      },
      "execution_count": null,
      "outputs": []
    },
    {
      "cell_type": "code",
      "source": [
        "# ============================= FORM ============================= #\n",
        "# @markdown <font size=4>**libtorrent for magnet link**</font>\n",
        "# @markdown <p>Run this cell to use libtorrent with magnet link.</p>\n",
        "# ================================================================ #\n",
        "\n",
        "from IPython.display import clear_output\n",
        "import os\n",
        "import importlib\n",
        "\n",
        "if os.path.exists(\"/content/downloads\"):\n",
        "  pass\n",
        "else:\n",
        "  os.mkdir(\"/content/downloads\")\n",
        "\n",
        "if importlib.util.find_spec(\"libtorrent\") is None:\n",
        "    !pip install libtorrent\n",
        "    clear_output()\n",
        "\n",
        "import libtorrent as lt\n",
        "import time\n",
        "import sys\n",
        "import urllib.parse\n",
        "\n",
        "ses = lt.session({'listen_interfaces': '0.0.0.0:6881'})\n",
        "\n",
        "magnet_link = input('Paste Magnet Link here:'\\n)\n",
        "clear_output()\n",
        "\n",
        "params = lt.add_torrent_params()\n",
        "params.save_path = '/content/downloads'\n",
        "\n",
        "info = lt.parse_magnet_uri(magnet_link)\n",
        "info_hash = info.info_hashes\n",
        "params.info_hashes = info_hash\n",
        "\n",
        "h = ses.add_torrent(params)\n",
        "s = h.status()\n",
        "\n",
        "parsed_magnet_link = urllib.parse.urlparse(magnet_link)\n",
        "torrent_name = urllib.parse.unquote(parsed_magnet_link.query.split('&dn=')[1].split('&')[0])\n",
        "\n",
        "print('start downloading', torrent_name)\n",
        "\n",
        "while (not s.is_seeding):\n",
        "    s = h.status()\n",
        "\n",
        "    print('\\r%.2f%% complete (down: %.1f kB/s up: %.1f kB/s peers: %d) %s' % (\n",
        "        s.progress * 100, s.download_rate / 1000, s.upload_rate / 1000,\n",
        "        s.num_peers, s.state), end=' ')\n",
        "\n",
        "#    alerts = ses.pop_alerts()\n",
        "#    for a in alerts:\n",
        "#        if a.category() & lt.alert.category_t.error_notification:\n",
        "#            print(a)\n",
        "\n",
        "    sys.stdout.flush()\n",
        "\n",
        "    time.sleep(1)\n",
        "\n",
        "print(h.status().name, 'complete')"
      ],
      "metadata": {
        "cellView": "form",
        "id": "RcfYEwzfhfN8"
      },
      "execution_count": null,
      "outputs": []
    },
    {
      "cell_type": "markdown",
      "source": [
        "####**Rclone & Input Command**"
      ],
      "metadata": {
        "id": "g5O8cQRYh_ma"
      }
    },
    {
      "cell_type": "code",
      "source": [
        "# ============================= FORM ============================= #\n",
        "# @markdown <font size=4>**Transfer Files with Rclone**</font>\n",
        "# @markdown <p>Use ***copy*** mode for files from your path and ***copyurl*** mode for direct link download, fill ***source*** with link or patch source, ***dest*** with your destiny path.</p>\n",
        "mode = \"copy\" #@param [\"copy\", \"copyurl\"]\n",
        "source = \"/content/archive-result\" #@param {type:\"string\"}\n",
        "dest = \"\" #@param {type:\"string\"}\n",
        "# ================================================================ #\n",
        "\n",
        "# command\n",
        "if mode == \"copyurl\":\n",
        "    command = f\"rclone {mode} -v --stats 3 --stats-one-line --onedrive-chunk-size 40M --multi-thread-cutoff 100M --multi-thread-streams 16 --transfers 15 -a \\\"{source}\\\" \\\"{dest}\\\" --user-agent 'ISV|rclone.org|rclone/v1.62.2'\"\n",
        "else:\n",
        "    command = f\"rclone {mode} -v --stats 3 --stats-one-line --onedrive-chunk-size 40M --multi-thread-cutoff 100M --multi-thread-streams 16 --transfers 15 \\\"{source}\\\" \\\"{dest}\\\" --user-agent 'ISV|rclone.org|rclone/v1.62.2'\"\n",
        "\n",
        "!{command}"
      ],
      "metadata": {
        "cellView": "form",
        "id": "ZD8hKcf7iQB8"
      },
      "execution_count": null,
      "outputs": []
    },
    {
      "cell_type": "code",
      "source": [
        "# input your custom commands here"
      ],
      "metadata": {
        "id": "-YrWwc5Linz5"
      },
      "execution_count": null,
      "outputs": []
    }
  ]
}
