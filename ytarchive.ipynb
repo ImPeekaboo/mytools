{
  "nbformat": 4,
  "nbformat_minor": 0,
  "metadata": {
    "colab": {
      "provenance": [],
      "collapsed_sections": [
        "9o1e2OrdQw6a",
        "01YwizGNRGdZ",
        "ZsUwCFQ_SZYY"
      ],
      "authorship_tag": "ABX9TyMKUlt1/vjjFtcx7fQ6LVuk",
      "include_colab_link": true
    },
    "kernelspec": {
      "name": "python3",
      "display_name": "Python 3"
    },
    "language_info": {
      "name": "python"
    }
  },
  "cells": [
    {
      "cell_type": "markdown",
      "metadata": {
        "id": "view-in-github",
        "colab_type": "text"
      },
      "source": [
        "<a href=\"https://colab.research.google.com/github/ImPeekaboo/mytools/blob/main/ytarchive.ipynb\" target=\"_parent\"><img src=\"https://colab.research.google.com/assets/colab-badge.svg\" alt=\"Open In Colab\"/></a>"
      ]
    },
    {
      "cell_type": "markdown",
      "source": [
        "####**Setup**"
      ],
      "metadata": {
        "id": "9o1e2OrdQw6a"
      }
    },
    {
      "cell_type": "code",
      "source": [
        "# ============================= FORM ============================= #\n",
        "#@markdown <font size=4>**Install rclone**</font>\n",
        "build_version = \"stable\" #@param [\"stable\", \"beta\"]\n",
        "automatically_clear_cell_output = True  # @param{type: \"boolean\"}\n",
        "# ================================================================ #\n",
        "\n",
        "import os\n",
        "import IPython\n",
        "from IPython.display import clear_output\n",
        "\n",
        "delete_path = '/content/sample_data'\n",
        "if os.listdir(delete_path):\n",
        "    !rm -rf '/content/sample_data'\n",
        "\n",
        "if build_version == \"stable\":\n",
        "    !curl https://rclone.org/install.sh | sudo bash\n",
        "else:\n",
        "    !curl https://rclone.org/install.sh | sudo bash -s beta\n",
        "\n",
        "!sudo apt-get -y install fuse3\n",
        "\n",
        "try:\n",
        "    os.makedirs(\"/root/.config/rclone\", exist_ok=True)\n",
        "except OSError as error:\n",
        "    pass\n",
        "\n",
        "if automatically_clear_cell_output is True:\n",
        "    clear_output()"
      ],
      "metadata": {
        "cellView": "form",
        "id": "PKOcXpXoQ92i"
      },
      "execution_count": null,
      "outputs": []
    },
    {
      "cell_type": "code",
      "source": [
        "# ============================= FORM ============================= #\n",
        "# @markdown <font size=4>**Upload Configuration File**</font>\n",
        "# @markdown <p>If you already have an rclone configuration file, you can upload it by running this cell.</p>\n",
        "# ================================================================ #\n",
        "\n",
        "from google.colab import files\n",
        "from IPython.display import clear_output\n",
        "import shutil\n",
        "import os\n",
        "\n",
        "uploaded = files.upload()\n",
        "\n",
        "destination_directory = '/root/.config/rclone'\n",
        "\n",
        "for filename in uploaded.keys():\n",
        "    shutil.move(filename, destination_directory + '/' + filename)\n",
        "\n",
        "clear_output()\n",
        "\n",
        "print(filename, 'success uploaded to', destination_directory)"
      ],
      "metadata": {
        "cellView": "form",
        "id": "c5qI2l2RRCXk"
      },
      "execution_count": null,
      "outputs": []
    },
    {
      "cell_type": "code",
      "source": [
        "# ============================= FORM ============================= #\n",
        "# @markdown <font size=4>**Mount Google Drive**</font>\n",
        "# @markdown <p>Run this if you don't want to upload rclone config, but you still need run ***Install rclone*** above to use rclone transfer to transfer archive-result to your google drive.</p>\n",
        "# ================================================================ #\n",
        "\n",
        "import os\n",
        "delete_path = '/content/sample_data'\n",
        "if os.listdir(delete_path):\n",
        "    !rm -rf '/content/sample_data'\n",
        "\n",
        "from google.colab import drive\n",
        "drive.mount('/content/drive')"
      ],
      "metadata": {
        "cellView": "form",
        "id": "cCYQbkN-UiP3"
      },
      "execution_count": null,
      "outputs": []
    },
    {
      "cell_type": "markdown",
      "source": [
        "####**Youtube Archive**"
      ],
      "metadata": {
        "id": "01YwizGNRGdZ"
      }
    },
    {
      "cell_type": "code",
      "source": [
        "# ============================= FORM ============================= #\n",
        "# @markdown <p>Run this first before you use <i><b>Archive livestreaming</b></i> and <i><b>Archive processed video/VOD</b></i>.</p>\n",
        "# ================================================================ #\n",
        "\n",
        "from IPython.display import clear_output\n",
        "import os\n",
        "\n",
        "delete_path = '/content/sample_data'\n",
        "if os.listdir(delete_path):\n",
        "    !rm -rf '/content/sample_data'\n",
        "\n",
        "# command for setup\n",
        "%cd /content\n",
        "!wget https://www.johnvansickle.com/ffmpeg/old-releases/ffmpeg-5.1.1-amd64-static.tar.xz\n",
        "!tar -xf ffmpeg-5.1.1-amd64-static.tar.xz\n",
        "!cp ffmpeg-*-static/ffmpeg ffmpeg-*-static/ffprobe /usr/local/bin/\n",
        "!rm ffmpeg-5.1.1-amd64-static.tar.xz\n",
        "!rm -rf ffmpeg-*-static\n",
        "\n",
        "# build yta with go, u can use this too\n",
        "# !wget https://go.dev/dl/go1.20.5.linux-amd64.tar.gz\n",
        "# !tar -xf go1.20.5.linux-amd64.tar.gz\n",
        "# !sudo mv go /usr/local\n",
        "# !rm go1.20.5.linux-amd64.tar.gz\n",
        "# os.environ['PATH'] += \":/usr/local/go/bin\"\n",
        "# !git clone https://github.com/ImPeekaboo/ytarchive\n",
        "# !cd ytarchive && go build -o /usr/local/bin/ytarchive\n",
        "# !rm -rf ytarchive\n",
        "\n",
        "!wget https://source.ayampenyet.eu.org/api/raw/?path=/ytarchive/ -O /usr/local/bin/ytarchive\n",
        "!chmod +x /usr/local/bin/ytarchive\n",
        "!pip install yt-dlp\n",
        "!mkdir archive-result\n",
        "\n",
        "clear_output()"
      ],
      "metadata": {
        "cellView": "form",
        "id": "sBayr_Z9RVO7"
      },
      "execution_count": null,
      "outputs": []
    },
    {
      "cell_type": "code",
      "source": [
        "# ============================= FORM ============================= #\n",
        "# @markdown <font size=4>**Upload your cookies.txt here**</font>\n",
        "# @markdown <p>If you want to archive membership content, you need upload your cookies file, before you upload it you have to name it become ***cookies.txt***.</p>\n",
        "# ================================================================ #\n",
        "\n",
        "from google.colab import files\n",
        "\n",
        "uploaded = files.upload()\n",
        "\n",
        "for filename in uploaded.keys():\n",
        "    print(filename, 'success uploaded, now you can archive membership content!')"
      ],
      "metadata": {
        "cellView": "form",
        "id": "1yZKOHjfRhvS"
      },
      "execution_count": null,
      "outputs": []
    },
    {
      "cell_type": "code",
      "source": [
        "# ============================= FORM ============================= #\n",
        "# @markdown <font size=4>**Archive livestreaming**</font>\n",
        "# @markdown <p>Fill ***youtube_id*** with 11 digits youtube video link id.</p>\n",
        "# ================================================================ #\n",
        "\n",
        "youtube_id = \"\" #@param {type:\"string\"}\n",
        "\n",
        "import os\n",
        "import threading\n",
        "\n",
        "cookies_path = '/content/cookies.txt'\n",
        "\n",
        "def run_command_1():\n",
        "    command_1 = \"ytarchive -v -w -r 1 -o '/content/archive-result/[%(upload_date)s] %(title)s [%(channel)s] (%(id)s)/[%(upload_date)s] %(title)s [%(channel)s] (%(id)s)' -t --add-metadata --write-description --write-thumbnail --threads 4 --merge 'https://www.youtube.com/watch?v={}' best\".format(youtube_id)\n",
        "    if os.path.isfile(cookies_path):\n",
        "        command_1 = command_1.replace(\"ytarchive\", \"ytarchive --cookies cookies.txt\")\n",
        "    !{command_1}\n",
        "\n",
        "def run_command_2():\n",
        "    command_2 = \"yt-dlp -v -c -o '/content/archive-result/[%(release_date,upload_date)s] %(title)s [%(channel)s] (%(id)s)/[%(release_date,upload_date)s] %(title)s [%(channel)s] (%(id)s)' --wait-for-video 1 --live-from-start --write-info-json --clean-infojson --write-comments --write-subs --sub-lang live_chat --sub-format json --skip-download 'https://www.youtube.com/watch?v={}'\".format(youtube_id)\n",
        "    if os.path.isfile(cookies_path):\n",
        "        command_2 = command_2.replace(\"yt-dlp\", \"yt-dlp --cookies cookies.txt\")\n",
        "    !{command_2}\n",
        "\n",
        "thread_1 = threading.Thread(target=run_command_1)\n",
        "thread_2 = threading.Thread(target=run_command_2)\n",
        "\n",
        "thread_1.start()\n",
        "thread_2.start()\n",
        "\n",
        "# Menunggu kedua thread selesai\n",
        "thread_1.join()\n",
        "thread_2.join()\n",
        "\n",
        "# Kode setelah kedua perintah selesai"
      ],
      "metadata": {
        "cellView": "form",
        "id": "80dlwhI4RrVv"
      },
      "execution_count": null,
      "outputs": []
    },
    {
      "cell_type": "code",
      "source": [
        "# ============================= FORM ============================= #\n",
        "# @markdown <font size=4>**Archive processed video/VOD**</font>\n",
        "# @markdown <p>Fill ***youtube_id*** with 11 digits youtube video link id.</p>\n",
        "# ================================================================ #\n",
        "\n",
        "youtube_id = \"\" #@param {type:\"string\"}\n",
        "\n",
        "import os\n",
        "\n",
        "cookies_path = '/content/cookies.txt'\n",
        "\n",
        "def run_command_1():\n",
        "    command_1 = \"yt-dlp -v -c -o '/content/archive-result/[%(release_date,upload_date)s] %(title)s [%(channel)s] (%(id)s)/[%(release_date,upload_date)s] %(title)s [%(channel)s] (%(id)s)' --add-metadata --concurrent-fragments 20 --merge-output-format mp4 --embed-thumbnail --embed-metadata --write-info-json --clean-infojson --write-comments --write-subs --sub-lang live_chat --sub-format json --write-description --write-thumbnail --convert-thumbnails jpg 'https://www.youtube.com/watch?v={}'\".format(youtube_id)\n",
        "    if os.path.isfile(cookies_path):\n",
        "        command_1 = command_1.replace(\"yt-dlp\", \"yt-dlp --cookies cookies.txt\")\n",
        "    !{command_1}\n",
        "run_command_1()"
      ],
      "metadata": {
        "cellView": "form",
        "id": "MsF3S4WtR96d"
      },
      "execution_count": null,
      "outputs": []
    },
    {
      "cell_type": "code",
      "source": [
        "# ============================= FORM ============================= #\n",
        "# @markdown <font size=4>**m3u8 Recorder**</font>\n",
        "# @markdown <p>***format*** is for output video format, ***link*** is m3u8 link source, ***name*** is output file name.</p>\n",
        "format = \"mp4\" #@param [\"mp4\", \"mkv\"]\n",
        "link = \"\" #@param {type:\"string\"}\n",
        "name = \"\" #@param {type:\"string\"}\n",
        "# ================================================================ #\n",
        "\n",
        "!ffmpeg -loglevel warning -i \"{link}\" -c copy \"/content/{name}.ts\"\n",
        "!ffmpeg -i \"/content/{name}.ts\" -c copy \"/content/archive-result/{name}.{format}\"\n",
        "!rm \"/content/{name}.ts\""
      ],
      "metadata": {
        "cellView": "form",
        "id": "pgKZpdXkSIRd"
      },
      "execution_count": null,
      "outputs": []
    },
    {
      "cell_type": "markdown",
      "source": [
        "####**Rclone & Input Commands**"
      ],
      "metadata": {
        "id": "ZsUwCFQ_SZYY"
      }
    },
    {
      "cell_type": "code",
      "source": [
        "# ============================= FORM ============================= #\n",
        "# @markdown <font size=4>**Transfer Files with Rclone**</font>\n",
        "# @markdown <p>Use ***copy*** mode for files from your path and ***copyurl*** mode for direct link download, fill ***source*** with link or patch source, ***dest*** with your destiny path.</p>\n",
        "mode = \"copy\" #@param [\"copy\", \"copyurl\"]\n",
        "source = \"/content/archive-result\" #@param {type:\"string\"}\n",
        "dest = \"\" #@param {type:\"string\"}\n",
        "# ================================================================ #\n",
        "\n",
        "# command\n",
        "if mode == \"copyurl\":\n",
        "    command = f\"rclone {mode} -v --stats 3 --stats-one-line --onedrive-chunk-size 40M --multi-thread-cutoff 100M --multi-thread-streams 16 --transfers 15 -a \\\"{source}\\\" \\\"{dest}\\\" --user-agent 'ISV|rclone.org|rclone/v1.62.2'\"\n",
        "else:\n",
        "    command = f\"rclone {mode} -v --stats 3 --stats-one-line --onedrive-chunk-size 40M --multi-thread-cutoff 100M --multi-thread-streams 16 --transfers 15 \\\"{source}\\\" \\\"{dest}\\\" --user-agent 'ISV|rclone.org|rclone/v1.62.2'\"\n",
        "\n",
        "!{command}"
      ],
      "metadata": {
        "cellView": "form",
        "id": "Yxqr4QkKSdlm"
      },
      "execution_count": null,
      "outputs": []
    },
    {
      "cell_type": "code",
      "source": [
        "# ============================= FORM ============================= #\n",
        "# @markdown <font size=4>**Input Commands**</font>\n",
        "# @markdown <p>You can input your commands here like on terminal.</p>\n",
        "# ================================================================ #\n",
        "\n",
        "import ipywidgets as widgets\n",
        "from IPython.display import display, clear_output\n",
        "\n",
        "label = widgets.Label('Input your Commands here:')\n",
        "text_widget = widgets.Text()\n",
        "button = widgets.Button(description='Execute')\n",
        "button.style.button_color = 'red'\n",
        "vbox = widgets.VBox([label, text_widget, button])\n",
        "\n",
        "display(vbox)\n",
        "\n",
        "def clicked(sender):\n",
        "    clear_output()\n",
        "    command = text_widget.value\n",
        "    !{command}\n",
        "\n",
        "button.on_click(clicked)"
      ],
      "metadata": {
        "cellView": "form",
        "id": "d-zUKP00SqMu"
      },
      "execution_count": null,
      "outputs": []
    }
  ]
}
